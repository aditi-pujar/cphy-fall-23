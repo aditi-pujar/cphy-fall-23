{
 "cells": [
  {
   "cell_type": "markdown",
   "metadata": {},
   "source": [
    "# Julia Extra! Self-induced stochastic resonance.\n",
    "\n",
    "Continuing in this Julia series, let's say we're interested in examples where stochastic systems exhibit qualitatively different behavior than their deterministic/mean-field descriptions.\n",
    "\n",
    "Consider the simple nonlinear reaction system given by:\n",
    "$$\n",
    "2A + B \\rightarrow 3A $$\n",
    "$$ \\emptyset \\rightleftharpoons A $$\n",
    "$$ \\emptyset \\rightarrow B$$"
   ]
  },
  {
   "cell_type": "markdown",
   "metadata": {},
   "source": [
    "Note that these are essentially just a library of rules for interactions, we have one set of \"reversible\" rules (eq 2), and two irreversible steps. The first step is the one considered \"nonlinear\" due to the fact that it depends on two terms one describing A and one describing B, and these aren't linearly additive as we'll see (from propensity functions)."
   ]
  },
  {
   "cell_type": "code",
   "execution_count": null,
   "metadata": {},
   "outputs": [],
   "source": [
    "# make sure to have these packages installed\n",
    "# you can do this by going to the Julia REPL, typing: \"using Pkg\", and then typing: \"Pkg.add(\"PACKAGE NAME\")\"\n",
    "# do this for the packages used in each of the notebooks.\n",
    "\n",
    "using Distributions, Plots, LaTeXStrings, BenchmarkTools, ColorSchemes\n"
   ]
  },
  {
   "cell_type": "markdown",
   "metadata": {},
   "source": [
    "We can model this system using the Gillespie Stochastic Simulation Algorithm (SSA). See the references for more information. In short, we can write \"propensity functions\" which are kind of like probability densities along intervals of time: the probability of a reaction $j$ occuring in the interval $dt$ is $f_{j} dt$. Now, let's write the probability distributions for this set of reactions:\n",
    "\n",
    "$$ f_{1} = k_{1} A B (A - 1) $$\n",
    "$$ f_{2} = k_{2} $$\n",
    "$$ f_{3} = k_{3} A $$\n",
    "$$ f_{4} = k_{4} $$"
   ]
  },
  {
   "cell_type": "markdown",
   "metadata": {},
   "source": [
    "where we let $A = N(A)$, that is $A$ represents the number of type-$A$ molecules, and the same for B molecules. The rate of production of A, B doesn't depend on the existing population (per the rules, they just spawn at some rate)."
   ]
  },
  {
   "cell_type": "markdown",
   "metadata": {},
   "source": [
    "To represent the state of the system, we can use a struct: a composite type in Julia. See the implementation below:"
   ]
  },
  {
   "cell_type": "code",
   "execution_count": null,
   "metadata": {},
   "outputs": [],
   "source": [
    "mutable struct State\n",
    "    \"\"\"\n",
    "    Structs are a composite type in Julia. We're using a struct to represent the state of the system.\n",
    "    This is somewhat analgous to a class, but there are key differences since Julia is not an object-oriented language.\n",
    "\n",
    "    The state of the system is represented by two integers, A and B, representing the molecule number of each species\n",
    "    respectively.\n",
    "    \n",
    "    Note, unlike Python, we do have to care about the \"mutability.\" I had to add the `mutable` keyword to the struct\n",
    "    to be able to dynamically change the values of A and B, per the simulation. I have to explicitly declare that this \n",
    "    composite type is mutable, for changes to occur without error.\n",
    "    \"\"\"\n",
    "\n",
    "    # Declare the type, and the names of the fields.\n",
    "    A::Int64\n",
    "    B::Int64\n",
    "\n",
    "    # Overload the addition operator so that I can add things together willy nilly and not worry about\n",
    "    # the types of the things I'm adding.\n",
    "\n",
    "    Base.:+(x::State, y::State) = State(x.A + y.A, x.B + y.B)\n",
    "    Base.:+(x::State, y::Tuple{Int64, Int64}) = State(x.A + y[1], x.B + y[2])\n",
    "    Base.:+(x::Tuple{Int64, Int64}, y::State) = State(x[1] + y.A, x[2] + y.B)\n",
    "\n",
    "    # Declare a constructor. I have declared multiple constructors here, so that I can initialize the state\n",
    "    # in multiple ways. This is not strictly necessary, but it's nice to have.\n",
    "    State(A0 :: Int64, B0 :: Int64) = new(A0, B0)\n",
    "    State() = new(0, 0)\n",
    "    State(A0 :: Int64) = new(A0, 0)\n",
    "    State(B0 :: Int64) = new(0, B0)\n",
    "    State(x :: Tuple{Int64, Int64}) = new(x[1], x[2])\n",
    "end"
   ]
  },
  {
   "cell_type": "markdown",
   "metadata": {},
   "source": [
    "We can write these propensities into Julia using lambda functions:"
   ]
  },
  {
   "cell_type": "code",
   "execution_count": null,
   "metadata": {},
   "outputs": [],
   "source": [
    "rates = [4.0e-5, 50, 10, 25] # k1, k2, k3, k4 <- these are determined from quantum mechanics/theory of collisions.\n",
    "                             # if you're modelling actual physical reactions, sec^-1 time-scale\n",
    "\n",
    "# remember that indexing in Julis starts with 1\n",
    "propensities = [\n",
    "    (S::State) -> rates[1] * S.A * S.B * (S.A - 1), # <- this is what a lambda function looks like in Julia.\n",
    "    (S::State) -> rates[2],                         # also note how I access the fields of the struct.\n",
    "    (S::State) -> rates[3] * S.A,\n",
    "    (S::State) -> rates[4]\n",
    "]\n",
    "\n",
    "# adding a semi-colon at the end of a line suppresses the output of that line.\n",
    "change = [(1, -1), (1, 0), (-1, 0), (0, 1)]; # tuples that bring about the net change of a rxn (in the ordering of the rxns above)"
   ]
  },
  {
   "cell_type": "markdown",
   "metadata": {},
   "source": [
    "#### Gillespie Stochastic Simulation.\n",
    "\n",
    "We're going to use a method of stochastic simulation to generate \"exact\" (as opposed to mean) trajectories of this system. I've included a couple of good references of Gillespie simulation at the end, but the crux is that we are going to use a random draw to pick the next time, and next reaction to do.\n",
    "\n",
    "To avoid increasing the length of this particular notebook, I'll go into detail about the Gillespie method in another notebook (and other cool vairants -- there are some cool algebra/data structures connections in the history of the Gillespie method). These variants include: Tau Leaping, Next-Step methods/using tree representations, etc.\n",
    "\n",
    "Note the annotations (``::State, ::Float64`, and so on). These annotations restrict the use of step to this particular instance of a two component (A, B) reaction system. If I don't have that, my state definition breaks down and so does my stoichiometric change vector-- I would need to make both structures more general (include a dimension parameter) to create a step function capable of handling arbitrary components."
   ]
  },
  {
   "cell_type": "code",
   "execution_count": null,
   "metadata": {},
   "outputs": [],
   "source": [
    "function step(S::State, t::Float64, change::Vector{Tuple{Int64, Int64}}, propensities::Vector{Function})\n",
    "    \"\"\"\n",
    "    This function takes in the current state of the system, and returns the next state of the system.\n",
    "    This is the core of the Gillespie Stochastic Simulation Algorithm (SSA).\n",
    "    Parameters:\n",
    "    -----------\n",
    "    S: State\n",
    "        The current state of the system.\n",
    "    t: Float64\n",
    "        The current time of the system.\n",
    "    change: Vector{Tuple{Int64, Int64}}\n",
    "        The net change of each reaction.\n",
    "    propensities: Vector{Function}\n",
    "        The propensity functions of each reaction.\n",
    "    \n",
    "    Returns:\n",
    "    ----------\n",
    "    S: State\n",
    "        The updated state of the system.\n",
    "    t: Float64\n",
    "        The updated time of the system.\n",
    "    \"\"\"\n",
    "    a = [propensity(S) for propensity in propensities]\n",
    "    a0 = sum(a)\n",
    "\n",
    "    r1, r2 = rand(Uniform(0, 1), 2) # <- this is how you sample from a uniform distribution in Julia.\n",
    "                                    # this line uses the Distributions.jl package to instantiate a uniform distribution\n",
    "                                    # I am also implictily unpacking the tuple into two r1, r2 values.\n",
    "    \n",
    "    tol = r2 * a0\n",
    "    a_sum = cumsum(a)\n",
    "    \n",
    "    tau = -log(r1) / a0             # Determine the next time\n",
    "    j = findfirst(a_sum .> tol)     # Determine the next reaction index\n",
    "\n",
    "    S += change[j]                  # Update the state of the system: this relies on the overloaded addition operator\n",
    "    return S, t + tau\n",
    "end;"
   ]
  },
  {
   "cell_type": "code",
   "execution_count": null,
   "metadata": {},
   "outputs": [],
   "source": [
    "function simulate(S::State, tmax::Float64, change::Vector{Tuple{Int64, Int64}}, propensities::Vector{Function})\n",
    "    \"\"\"\n",
    "    Simulates the system until tmax.\n",
    "    Parameters:\n",
    "    -----------\n",
    "    S: State\n",
    "        The initial state of the system.\n",
    "    tmax: Float64\n",
    "        The maximum time to simulate the system.\n",
    "    change: Vector{Tuple{Int64, Int64}}\n",
    "        The net change of each reaction.\n",
    "    propensities: Vector{Function}\n",
    "        The propensity functions of each reaction.\n",
    "    \n",
    "    Returns:\n",
    "    ----------\n",
    "    data: Vector{Tuple{Float64, State}}\n",
    "        The time and state of the system at each time step.\n",
    "    \"\"\"\n",
    "    t = 0.0\n",
    "    data = [(t, S)]\n",
    "    while t < tmax\n",
    "        S, t = step(S, t, change, propensities)\n",
    "        push!(data, (t, S))                         # in julia, the ! operator is used to indicate that the function\n",
    "                                                    # modifies the input argument, so push! modifies/writes the data vector\n",
    "    end\n",
    "    return data\n",
    "end;"
   ]
  },
  {
   "cell_type": "markdown",
   "metadata": {},
   "source": [
    "Now, we have set up our simulator. We can simulate the time-evolution of this reacting system. Everything we have done has been very general, and you could imagine doing this for other \"rule\" schemes. The \"chemical\" reactions are even quite abstracted, and can be viewed generally as some potential paths that are randomly pursued based on the propensity functions.\n",
    "\n",
    "We'll simulate the system for 10,000 seconds, and visualize what happens."
   ]
  },
  {
   "cell_type": "code",
   "execution_count": null,
   "metadata": {},
   "outputs": [],
   "source": [
    "history = simulate(State(10, 10), 10000.0, change, propensities)"
   ]
  },
  {
   "cell_type": "markdown",
   "metadata": {},
   "source": [
    "This takes on average ~4.565 seconds to run. If you use `@btime` from Benchmark Tools, it'll take around 41 seconds to run. Note, this is a large unnormalized array (variable array length). I could go through and re-sample the array and match the times to a fixed sampling frequency, but for right now I'll just work with the entire array 😫"
   ]
  },
  {
   "cell_type": "markdown",
   "metadata": {},
   "source": [
    "### Initial Results:\n",
    "\n",
    "Plotting the production of A on a log scale, we can see some interesting things. Every now and then there appears to be a spike of about $10^6$ in the molecule number of A. I wonder what causes this? Additionally, this spike is not predicted by the deterministic dynamics of the system, what could it be?\n",
    "\n",
    "Just empirically looking at this graph, I see that there appears to be about 5-6 spike events per 2,500s ~ 42 minutes\n"
   ]
  },
  {
   "cell_type": "code",
   "execution_count": null,
   "metadata": {},
   "outputs": [],
   "source": [
    "gr()\n",
    "cp = cgrad(:roma, 10, categorical = true, scale = :exp)\n",
    "\n",
    "plot(\n",
    "    [x[1] for x in history],\n",
    "    [log.(x[2].A) for x in history],\n",
    "    label = L\"A\",\n",
    "    linewidth = 0.2,\n",
    "    xlabel = L\"t\",\n",
    "    ylabel = L\"\\log{\\left(A(t)\\right)}\",\n",
    "    legend = false,\n",
    "    title = String(L\"\\textrm{Stochastic\\,\\, Resonance\\,\\, I} - A(t) \\textrm{\\,vs.\\,} t\"),\n",
    "    palette = cp[1:4],\n",
    "    background_color = :white\n",
    "    \n",
    "    \n",
    ")"
   ]
  },
  {
   "cell_type": "code",
   "execution_count": null,
   "metadata": {},
   "outputs": [],
   "source": [
    "plot(\n",
    "    [log.(x[2].A) for x in history],\n",
    "    [log.(x[2].B) for x in history],\n",
    "    xlabel = L\"\\log{(A(t))}\",\n",
    "    ylabel = L\"\\log{(B(t))}\",\n",
    "    lw = 0.5,\n",
    "    legend = false,\n",
    "    title = String(L\"\\textrm{Stochastic\\,\\, Resonance\\, I}: A \\textrm{\\,vs.\\,} B\"),\n",
    "    palette = cp[8:end],\n",
    "    background_color = :white\n",
    "\n",
    ")"
   ]
  },
  {
   "cell_type": "markdown",
   "metadata": {},
   "source": [
    "# To Do:\n",
    "- Fourier stuff/coeffs \n"
   ]
  },
  {
   "cell_type": "markdown",
   "metadata": {},
   "source": [
    "# References\n",
    "- [Approximation & Inference Methods in Biochemical Kinetics](https://iopscience.iop.org/article/10.1088/1751-8121/aa54d9/meta)\n",
    "- [Practical Guide to Reaction Diffusion Systems](https://people.maths.ox.ac.uk/erban/Education/StochReacDiff.pdf)\n",
    "- [Cool other paper I tried to recreate](https://www.pnas.org/doi/abs/10.1073/pnas.2303115120)\n"
   ]
  },
  {
   "cell_type": "markdown",
   "metadata": {},
   "source": []
  }
 ],
 "metadata": {
  "kernelspec": {
   "display_name": "Julia 1.9.3",
   "language": "julia",
   "name": "julia-1.9"
  },
  "language_info": {
   "file_extension": ".jl",
   "mimetype": "application/julia",
   "name": "julia",
   "version": "1.9.3"
  }
 },
 "nbformat": 4,
 "nbformat_minor": 2
}
